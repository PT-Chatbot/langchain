{
 "cells": [
  {
   "cell_type": "code",
   "execution_count": 1,
   "metadata": {},
   "outputs": [],
   "source": [
    "from langchain.llms import LlamaCpp, OpenAI\n",
    "import config\n",
    "import os"
   ]
  },
  {
   "cell_type": "code",
   "execution_count": 2,
   "metadata": {},
   "outputs": [],
   "source": [
    "API = os.environ['OPENAI_API_KEY'] = config.OPENAI_API_KEY"
   ]
  },
  {
   "cell_type": "markdown",
   "metadata": {},
   "source": [
    "# Cadenas\n",
    "Las cadenas en LangChain funcionan para poder crear flujos de trabajo, donde unimos distintos \"bloques\" para poder crear un sistemas con LLMs mas complejo.\n",
    "\n",
    "Por ejemplo, si quieres crear un sistema el cual conecte distintas entradas y salidas de LLMs entre si con las cadenas puedes gestionar que modelo genera que información, con que prompt y la salida de ese modelo si funciona como entrada a otro.\n",
    "\n",
    "Hay bastantes cadenas que [LangChain tiene por default](https://api.python.langchain.com/en/latest/api_reference.html#module-langchain.chains) que puedes usar como bloques para crear tu sistema. Pero tambien puedes crear tus propias cadenas al igual que descargar distintas cadenas que ha hecho la comunidad desde el [LangChain-Hub](https://github.com/hwchase17/langchain-hub)"
   ]
  },
  {
   "cell_type": "markdown",
   "metadata": {},
   "source": [
    "## Cadenas más usadas\n",
    "Hay bastantes cadenas las cuales estan integradas dentro de LangChain, pero en este ejemplo estaremos viendo las mas cómunes que y muy útiles para poder desarrollar distintos sistemas.\n",
    "\n",
    "* LLMChain\n",
    "* SequentialChain\n",
    "* Math/transformation"
   ]
  },
  {
   "cell_type": "markdown",
   "metadata": {},
   "source": [
    "### LLMChain\n",
    "Lo que hace es unir dos elementos para que puedas interactuar con las LLMs de manera mas sencilla.\n",
    "\n",
    "Una un modelo LLM (Puede ser LLama, OpenAI, Cohere etc.) y los templates de prompts vistos en el cuaderno [Langchain 1.ipynb](./Langchain%201%20-%20Modelos%20y%20Prompts.ipynb)."
   ]
  },
  {
   "cell_type": "code",
   "execution_count": 3,
   "metadata": {},
   "outputs": [],
   "source": [
    "from langchain import LLMChain, OpenAI, PromptTemplate"
   ]
  },
  {
   "cell_type": "code",
   "execution_count": 4,
   "metadata": {},
   "outputs": [],
   "source": [
    "prompt = '''Eres un asistente virtual experto en {tema} y respondes\n",
    "            con una lista de 3 conceptos clave sobre el mismo\n",
    "            Solo enumeras los tres conceptos'''\n",
    "template = PromptTemplate.from_template(prompt)"
   ]
  },
  {
   "cell_type": "code",
   "execution_count": 5,
   "metadata": {},
   "outputs": [
    {
     "name": "stderr",
     "output_type": "stream",
     "text": [
      "C:\\Users\\Marco\\AppData\\Local\\Packages\\PythonSoftwareFoundation.Python.3.11_qbz5n2kfra8p0\\LocalCache\\local-packages\\Python311\\site-packages\\langchain_core\\_api\\deprecation.py:117: LangChainDeprecationWarning: The class `langchain_community.llms.openai.OpenAI` was deprecated in langchain-community 0.0.10 and will be removed in 0.2.0. An updated version of the class exists in the langchain-openai package and should be used instead. To use it run `pip install -U langchain-openai` and import as `from langchain_openai import OpenAI`.\n",
      "  warn_deprecated(\n"
     ]
    }
   ],
   "source": [
    "llm = OpenAI(openai_api_key=API)\n",
    "cadena_LLM = LLMChain(llm=llm, prompt=template)"
   ]
  },
  {
   "cell_type": "markdown",
   "metadata": {},
   "source": [
    "La cadena es el elemento con el que vas a intecartuar ahora para poder hacer predicciones.\n",
    "\n",
    "Lo que hace ahora esta cadena es tomar tu input (El tema), darle formato al prompt que usará y envia el prompt construido al modelo para su generación de texto"
   ]
  },
  {
   "cell_type": "code",
   "execution_count": 6,
   "metadata": {},
   "outputs": [
    {
     "data": {
      "text/plain": [
       "' clave \\n\\n1. Diseño estructural: Es la disciplina que se encarga de crear la estructura de los edificios y otras construcciones, teniendo en cuenta la resistencia de los materiales y la estabilidad de la estructura.\\n\\n2. Mecánica de suelos: Se refiere al estudio de las propiedades físicas y mecánicas del suelo y su relación con las construcciones que se van a realizar sobre él.\\n\\n3. Normativas y códigos de construcción: Son los estándares y regulaciones que deben seguirse en la elaboración de proyectos de ingeniería civil para garantizar la seguridad y calidad de las construcciones.'"
      ]
     },
     "execution_count": 6,
     "metadata": {},
     "output_type": "execute_result"
    }
   ],
   "source": [
    "cadena_LLM.predict(tema=\"ingenieria civil\")"
   ]
  },
  {
   "cell_type": "markdown",
   "metadata": {},
   "source": [
    "### SequentialChain\n",
    "Para muchos casos de usos solo enviar un texto para ser procesado no es suficiente, por lo que se requiere de una secuencia de procesos que se ejecuten en orden. Para esto se puede utilizar las cadenas `SimpleSequentialChain o SequentialChain` que permiten encadenar varios procesos de manera secuencial.\n",
    "\n",
    "Cuando quieres que la salida que genera el modelo funcione como entrada para otro, este es una gran manera de hacerlo. \n",
    "\n",
    "En este ejemplo veremos SequentialChain, ya que nos brinda mas flexibilidad que SimpleSequentialChain, pues puede recibir multiples entradas y generar multiples salidas."
   ]
  },
  {
   "cell_type": "markdown",
   "metadata": {},
   "source": [
    "Armamos la primera cadena que será la misma que hicimos en el ejercicio anterior"
   ]
  },
  {
   "cell_type": "code",
   "execution_count": 7,
   "metadata": {},
   "outputs": [],
   "source": [
    "llm = OpenAI(openai_api_key=API)\n",
    "prompt = '''Eres un asistente virtual experto en {tema} y respondes\n",
    "            con una lista de 3 conceptos clave sobre el mismo\n",
    "            Solo enumeras los tres conceptos'''\n",
    "template = PromptTemplate.from_template(prompt)\n",
    "cadena_lista = LLMChain(llm=llm, prompt=template, output_key=\"lista_conceptos\")"
   ]
  },
  {
   "cell_type": "markdown",
   "metadata": {},
   "source": [
    "Armamos una cadena la cual va a recibir la salida de la cadena cadena_LLM y lo procesa para generar otro texto"
   ]
  },
  {
   "cell_type": "code",
   "execution_count": 8,
   "metadata": {},
   "outputs": [],
   "source": [
    "prompt = '''Eres un asistente virtual que recibe una lista de conceptos\n",
    "            de un area de conocimiento y\n",
    "            debe devolver cual de esos conceptos es mejor aprender primero.\n",
    "            Los conceptos son: {lista_conceptos}'''\n",
    "template = PromptTemplate.from_template(prompt)\n",
    "cadena_inicio = LLMChain(llm=llm, prompt=template, output_key=\"donde_iniciar\")"
   ]
  },
  {
   "cell_type": "code",
   "execution_count": 9,
   "metadata": {},
   "outputs": [],
   "source": [
    "from langchain.chains import SequentialChain\n",
    "cadenas = SequentialChain(chains=[cadena_lista, cadena_inicio],\n",
    "                          input_variables=[\"tema\"],\n",
    "                          output_variables=[\"lista_conceptos\", \"donde_iniciar\"],\n",
    "                          verbose=True)"
   ]
  },
  {
   "cell_type": "code",
   "execution_count": 10,
   "metadata": {},
   "outputs": [
    {
     "name": "stderr",
     "output_type": "stream",
     "text": [
      "C:\\Users\\Marco\\AppData\\Local\\Packages\\PythonSoftwareFoundation.Python.3.11_qbz5n2kfra8p0\\LocalCache\\local-packages\\Python311\\site-packages\\langchain_core\\_api\\deprecation.py:117: LangChainDeprecationWarning: The function `__call__` was deprecated in LangChain 0.1.0 and will be removed in 0.2.0. Use invoke instead.\n",
      "  warn_deprecated(\n"
     ]
    },
    {
     "name": "stdout",
     "output_type": "stream",
     "text": [
      "\n",
      "\n",
      "\u001b[1m> Entering new SequentialChain chain...\u001b[0m\n",
      "\n",
      "\u001b[1m> Finished chain.\u001b[0m\n"
     ]
    },
    {
     "data": {
      "text/plain": [
       "{'tema': 'programacion',\n",
       " 'lista_conceptos': '\\n\\n1. Lenguaje de programación: Es un conjunto de reglas y símbolos que permiten escribir instrucciones para que una computadora realice una tarea específica.\\n\\n2. Algoritmo: Es un conjunto ordenado de pasos que se deben seguir para resolver un problema o realizar una tarea en un programa de computadora.\\n\\n3. Variables: Son espacios de memoria utilizados para almacenar y manipular datos en un programa de computadora, permitiendo que estos datos puedan ser modificados durante la ejecución del programa. ',\n",
       " 'donde_iniciar': '\\n\\n4. Control de flujo: Es la forma en la que un programa de computadora controla la ejecución de sus instrucciones, permitiendo que estas se ejecuten en un orden específico o que se repitan un número determinado de veces.\\n\\n5. Estructuras de datos: Son formas de organizar y almacenar datos en una computadora, permitiendo que estos puedan ser accedidos y modificados de manera eficiente.\\n\\n6. Funciones: Son bloques de código que realizan una tarea específica y pueden ser llamados desde diferentes partes de un programa de computadora.\\n\\n7. Programación orientada a objetos: Es un paradigma de programación que se basa en la creación de objetos que contienen tanto datos como funciones, permitiendo una mayor modularidad y reutilización de código.\\n\\n8. Bases de datos: Son sistemas de almacenamiento de datos que permiten organizar, gestionar y recuperar grandes cantidades de información de manera eficiente.\\n\\nTeniendo en cuenta los conceptos mencionados, mi recomendación sería aprender primero sobre el lenguaje de programación. Esto es porque el lenguaje de programación es la base fundamental para poder entender y aplicar los'}"
      ]
     },
     "execution_count": 10,
     "metadata": {},
     "output_type": "execute_result"
    }
   ],
   "source": [
    "cadenas({\"tema\": \"programacion\"})"
   ]
  },
  {
   "cell_type": "code",
   "execution_count": 11,
   "metadata": {},
   "outputs": [
    {
     "name": "stdout",
     "output_type": "stream",
     "text": [
      "\n",
      "\n",
      "\u001b[1m> Entering new SimpleSequentialChain chain...\u001b[0m\n"
     ]
    },
    {
     "name": "stderr",
     "output_type": "stream",
     "text": [
      "C:\\Users\\Marco\\AppData\\Local\\Packages\\PythonSoftwareFoundation.Python.3.11_qbz5n2kfra8p0\\LocalCache\\local-packages\\Python311\\site-packages\\langchain_core\\_api\\deprecation.py:117: LangChainDeprecationWarning: The function `run` was deprecated in LangChain 0.1.0 and will be removed in 0.2.0. Use invoke instead.\n",
      "  warn_deprecated(\n"
     ]
    },
    {
     "name": "stdout",
     "output_type": "stream",
     "text": [
      "\u001b[36;1m\u001b[1;3m sin añadir ningún comentario\n",
      "\n",
      "1. Aprendizaje automático\n",
      "2. Redes neuronales\n",
      "3. Procesamiento del lenguaje natural\u001b[0m\n",
      "\u001b[33;1m\u001b[1;3m\n",
      "\n",
      "El mejor concepto para aprender primero sería Aprendizaje automático.\u001b[0m\n",
      "\n",
      "\u001b[1m> Finished chain.\u001b[0m\n"
     ]
    },
    {
     "data": {
      "text/plain": [
       "'\\n\\nEl mejor concepto para aprender primero sería Aprendizaje automático.'"
      ]
     },
     "execution_count": 11,
     "metadata": {},
     "output_type": "execute_result"
    }
   ],
   "source": [
    "from langchain.chains import SimpleSequentialChain\n",
    "cadena_simple = SimpleSequentialChain(chains=[cadena_lista, cadena_inicio], verbose=True)\n",
    "cadena_simple.run(\"Inteligencia artificial\")"
   ]
  },
  {
   "cell_type": "markdown",
   "metadata": {},
   "source": [
    "## Otros ejemplos"
   ]
  },
  {
   "cell_type": "code",
   "execution_count": 12,
   "metadata": {},
   "outputs": [],
   "source": [
    "# %pip install numexpr"
   ]
  },
  {
   "cell_type": "code",
   "execution_count": 13,
   "metadata": {},
   "outputs": [
    {
     "name": "stdout",
     "output_type": "stream",
     "text": [
      "\n",
      "\n",
      "\u001b[1m> Entering new LLMMathChain chain...\u001b[0m\n",
      "Cuanto es 432*12-32+32?"
     ]
    },
    {
     "name": "stderr",
     "output_type": "stream",
     "text": [
      "C:\\Users\\Marco\\AppData\\Local\\Packages\\PythonSoftwareFoundation.Python.3.11_qbz5n2kfra8p0\\LocalCache\\local-packages\\Python311\\site-packages\\langchain\\chains\\llm_math\\base.py:57: UserWarning: Directly instantiating an LLMMathChain with an llm is deprecated. Please instantiate with llm_chain argument or using the from_llm class method.\n",
      "  warnings.warn(\n"
     ]
    },
    {
     "name": "stdout",
     "output_type": "stream",
     "text": [
      "\u001b[32;1m\u001b[1;3m```text\n",
      "432*12-32+32\n",
      "```\n",
      "...numexpr.evaluate(\"432*12-32+32\")...\n",
      "\u001b[0m\n",
      "Answer: \u001b[33;1m\u001b[1;3m5184\u001b[0m\n",
      "\u001b[1m> Finished chain.\u001b[0m\n"
     ]
    },
    {
     "data": {
      "text/plain": [
       "'Answer: 5184'"
      ]
     },
     "execution_count": 13,
     "metadata": {},
     "output_type": "execute_result"
    }
   ],
   "source": [
    "# MathChain\n",
    "from langchain import LLMMathChain\n",
    "cadena_mate = LLMMathChain(llm=llm, verbose=True)\n",
    "cadena_mate.run(\"Cuanto es 432*12-32+32?\")"
   ]
  },
  {
   "cell_type": "markdown",
   "metadata": {},
   "source": [
    "Cuando vamos a hacer un preprocesamiento del promp"
   ]
  },
  {
   "cell_type": "code",
   "execution_count": 14,
   "metadata": {},
   "outputs": [
    {
     "data": {
      "text/plain": [
       "' Este es un texto  con brincos de  línea.  '"
      ]
     },
     "execution_count": 14,
     "metadata": {},
     "output_type": "execute_result"
    }
   ],
   "source": [
    "# TransformChain\n",
    "from langchain.chains import TransformChain\n",
    "\n",
    "def eliminar_brincos(input):\n",
    "    \"\"\"Elimina los brincos de línea de un texto.\"\"\"\n",
    "    texto = input[\"texto\"]\n",
    "    return {\"texto_limpio\": texto.replace(\"\\n\", \" \")}\n",
    "\n",
    "\n",
    "cadena_transformacion = TransformChain(input_variables=[\"texto\"],\n",
    "                                        output_variables=[\"texto_limpio\"],\n",
    "                                        transform=eliminar_brincos)\n",
    "\n",
    "prompt = '''\\nEste es un texto \\ncon brincos de\\n línea.\\n\\n'''\n",
    "\n",
    "\n",
    "cadena_transformacion.run(prompt)\n"
   ]
  }
 ],
 "metadata": {
  "kernelspec": {
   "display_name": "llm",
   "language": "python",
   "name": "python3"
  },
  "language_info": {
   "codemirror_mode": {
    "name": "ipython",
    "version": 3
   },
   "file_extension": ".py",
   "mimetype": "text/x-python",
   "name": "python",
   "nbconvert_exporter": "python",
   "pygments_lexer": "ipython3",
   "version": "3.11.8"
  },
  "orig_nbformat": 4
 },
 "nbformat": 4,
 "nbformat_minor": 2
}
